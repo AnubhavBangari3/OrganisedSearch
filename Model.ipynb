{
  "nbformat": 4,
  "nbformat_minor": 0,
  "metadata": {
    "colab": {
      "provenance": []
    },
    "kernelspec": {
      "name": "python3",
      "display_name": "Python 3"
    },
    "language_info": {
      "name": "python"
    }
  },
  "cells": [
    {
      "cell_type": "code",
      "execution_count": 29,
      "metadata": {
        "colab": {
          "base_uri": "https://localhost:8080/"
        },
        "id": "5m_Q4Pxssj-E",
        "outputId": "9308f0cb-e159-45f9-9c7c-035c094af86a"
      },
      "outputs": [
        {
          "output_type": "stream",
          "name": "stdout",
          "text": [
            "Drive already mounted at /content/drive; to attempt to forcibly remount, call drive.mount(\"/content/drive\", force_remount=True).\n"
          ]
        }
      ],
      "source": [
        "from google.colab import drive\n",
        "drive.mount('/content/drive')"
      ]
    },
    {
      "cell_type": "code",
      "source": [
        "!ls \"drive/MyDrive/Colab Notebooks/OrganisedSearch/data\""
      ],
      "metadata": {
        "colab": {
          "base_uri": "https://localhost:8080/"
        },
        "id": "u1xUkoAJtCkX",
        "outputId": "e57e5cc3-d4aa-4f42-90a6-315deab8ebbf"
      },
      "execution_count": 112,
      "outputs": [
        {
          "output_type": "stream",
          "name": "stdout",
          "text": [
            "'bch(1).pdf'  'bch(5).pdf'  'testing 1 - Copy.txt'  'testing 1.txt'   textingt2.txt\n"
          ]
        }
      ]
    },
    {
      "cell_type": "code",
      "source": [
        "import numpy as np\n",
        "import spacy\n",
        "from sentence_transformers import SentenceTransformer"
      ],
      "metadata": {
        "id": "kCkODrmDtNwf"
      },
      "execution_count": 113,
      "outputs": []
    },
    {
      "cell_type": "code",
      "source": [
        "from docx import Document\n",
        "import csv\n",
        "import openpyxl\n",
        "import PyPDF2"
      ],
      "metadata": {
        "id": "mlF7MbC5taW2"
      },
      "execution_count": 114,
      "outputs": []
    },
    {
      "cell_type": "code",
      "source": [
        "from sklearn.metrics.pairwise import cosine_similarity"
      ],
      "metadata": {
        "id": "JP639ucWtqbK"
      },
      "execution_count": 115,
      "outputs": []
    },
    {
      "cell_type": "code",
      "source": [
        "model = SentenceTransformer('all-MiniLM-L6-v2')"
      ],
      "metadata": {
        "id": "vgYc41wYtx9U"
      },
      "execution_count": 41,
      "outputs": []
    },
    {
      "cell_type": "code",
      "source": [
        "import os"
      ],
      "metadata": {
        "id": "Aqc3Enggt4VF"
      },
      "execution_count": null,
      "outputs": []
    },
    {
      "cell_type": "code",
      "source": [
        "file_paths=\"drive/MyDrive/Colab Notebooks/OrganisedSearch/data\"\n"
      ],
      "metadata": {
        "id": "i8swKvADt99L"
      },
      "execution_count": 116,
      "outputs": []
    },
    {
      "cell_type": "code",
      "source": [
        "files=os.listdir(file_paths)"
      ],
      "metadata": {
        "id": "qSkXwSfVvcvf"
      },
      "execution_count": 117,
      "outputs": []
    },
    {
      "cell_type": "code",
      "source": [
        "print(\"files:\",files)"
      ],
      "metadata": {
        "colab": {
          "base_uri": "https://localhost:8080/"
        },
        "id": "kqvaiAnHuHEH",
        "outputId": "1ee09be4-d032-400c-e4fb-d456c6f7a48c"
      },
      "execution_count": 118,
      "outputs": [
        {
          "output_type": "stream",
          "name": "stdout",
          "text": [
            "files: ['bch(1).pdf', 'bch(5).pdf', 'testing 1.txt', 'textingt2.txt', 'testing 1 - Copy.txt']\n"
          ]
        }
      ]
    },
    {
      "cell_type": "code",
      "source": [
        "def get_embedding(text):\n",
        "    return model.encode(text)"
      ],
      "metadata": {
        "id": "Um369hqluKAn"
      },
      "execution_count": 71,
      "outputs": []
    },
    {
      "cell_type": "code",
      "source": [
        "def extract_text_from_pdf(file_path):\n",
        "    if not os.path.exists(file_path):\n",
        "        print(f\"Error: File not found - {file_path}\")\n",
        "        return \"\"\n",
        "\n",
        "    text = \"\"\n",
        "    with open(file_path, \"rb\") as file:\n",
        "        reader = PyPDF2.PdfReader(file)\n",
        "        for page in reader.pages:\n",
        "            page_text = page.extract_text()\n",
        "            if page_text:\n",
        "                text += page_text + \"\\n\"\n",
        "    return text.strip()\n",
        "\n",
        "def extract_text_from_txt(file_path):\n",
        "    if not os.path.exists(file_path):\n",
        "        print(f\"Error: File not found - {file_path}\")\n",
        "        return \"\"\n",
        "\n",
        "    with open(file_path, 'r', encoding='utf-8') as file:\n",
        "        return file.read().strip()\n",
        "\n",
        "def extract_text_from_docx(file_path):\n",
        "    if not os.path.exists(file_path):\n",
        "        print(f\"Error: File not found - {file_path}\")\n",
        "        return \"\"\n",
        "\n",
        "    doc = Document(file_path)\n",
        "    return '\\n'.join([para.text for para in doc.paragraphs]).strip()\n",
        "\n",
        "def extract_text_from_csv(file_path):\n",
        "    if not os.path.exists(file_path):\n",
        "        print(f\"Error: File not found - {file_path}\")\n",
        "        return \"\"\n",
        "\n",
        "    with open(file_path, 'r', encoding='utf-8') as file:\n",
        "        reader = csv.reader(file)\n",
        "        return '\\n'.join([' '.join(row) for row in reader]).strip()\n",
        "\n",
        "def extract_text_from_xlsx(file_path):\n",
        "    if not os.path.exists(file_path):\n",
        "        print(f\"Error: File not found - {file_path}\")\n",
        "        return \"\"\n",
        "\n",
        "    wb = openpyxl.load_workbook(file_path)\n",
        "    sheet = wb.active\n",
        "    text = \"\"\n",
        "    for row in sheet.iter_rows(values_only=True):\n",
        "        text += ' '.join([str(cell) for cell in row if cell is not None]) + '\\n'\n",
        "    return text.strip()"
      ],
      "metadata": {
        "id": "zt1WJAcexOMr"
      },
      "execution_count": 88,
      "outputs": []
    },
    {
      "cell_type": "code",
      "source": [
        "def load_files(directory):\n",
        "    file_paths = [os.path.join(directory, file) for file in os.listdir(directory)]\n",
        "    file_texts = []\n",
        "    file_names = []\n",
        "\n",
        "    for file_path in file_paths:\n",
        "        text = \"\"\n",
        "        if file_path.endswith(\".pdf\"):\n",
        "            text = extract_text_from_pdf(file_path)\n",
        "        elif file_path.endswith(\".txt\"):\n",
        "            text = extract_text_from_txt(file_path)\n",
        "        elif file_path.endswith(\".docx\"):\n",
        "            text = extract_text_from_docx(file_path)\n",
        "        elif file_path.endswith(\".csv\"):\n",
        "            text = extract_text_from_csv(file_path)\n",
        "        elif file_path.endswith(\".xlsx\"):\n",
        "            text = extract_text_from_xlsx(file_path)\n",
        "        else:\n",
        "            print(f\"Skipping unsupported file type: {file_path}\")\n",
        "            continue\n",
        "\n",
        "        if text:  # Ensure file is not empty\n",
        "            file_texts.append(text)\n",
        "            file_names.append(os.path.basename(file_path))\n",
        "\n",
        "    return file_texts, file_names"
      ],
      "metadata": {
        "id": "nyTIJ_YP3ci6"
      },
      "execution_count": 91,
      "outputs": []
    },
    {
      "cell_type": "code",
      "source": [
        "def compute_all_similarities(file_texts, file_names, threshold=0.8):\n",
        "    file_embeddings = model.encode(file_texts)  # Get embeddings\n",
        "    similarity_matrix = cosine_similarity(file_embeddings)\n",
        "\n",
        "    similar_files = []\n",
        "    for i in range(len(file_names)):\n",
        "        for j in range(i + 1, len(file_names)):  # Avoid redundant comparisons\n",
        "            similarity_score = similarity_matrix[i][j]\n",
        "            if similarity_score >= threshold:\n",
        "                similar_files.append({\n",
        "                    \"file1\": file_names[i],\n",
        "                    \"file2\": file_names[j],\n",
        "                    \"similarity_score\": round(similarity_score * 100, 2)\n",
        "                })\n",
        "    print(\"similar_files:\",similar_files)\n",
        "\n",
        "    return similar_files"
      ],
      "metadata": {
        "id": "yAaeCRzHwqR1"
      },
      "execution_count": 102,
      "outputs": []
    },
    {
      "cell_type": "code",
      "source": [
        " file_texts, file_names = load_files(file_paths)"
      ],
      "metadata": {
        "id": "rS9HL0eQzAKg"
      },
      "execution_count": 119,
      "outputs": []
    },
    {
      "cell_type": "code",
      "source": [
        "similar_files = compute_all_similarities(file_texts, file_names)"
      ],
      "metadata": {
        "colab": {
          "base_uri": "https://localhost:8080/"
        },
        "id": "8TYB1yJ4zIUM",
        "outputId": "849868d1-ce0c-4f50-9c0c-e96fbb0d29b2"
      },
      "execution_count": 120,
      "outputs": [
        {
          "output_type": "stream",
          "name": "stdout",
          "text": [
            "similar_files: [{'file1': 'testing 1.txt', 'file2': 'testing 1 - Copy.txt', 'similarity_score': 100.0}]\n"
          ]
        }
      ]
    },
    {
      "cell_type": "code",
      "source": [
        "print(\"similar_files:\",similar_files)"
      ],
      "metadata": {
        "colab": {
          "base_uri": "https://localhost:8080/"
        },
        "id": "lJdbXL9c5BbA",
        "outputId": "ae471392-deda-4106-af57-d826a4d67642"
      },
      "execution_count": 121,
      "outputs": [
        {
          "output_type": "stream",
          "name": "stdout",
          "text": [
            "similar_files: [{'file1': 'testing 1.txt', 'file2': 'testing 1 - Copy.txt', 'similarity_score': 100.0}]\n"
          ]
        }
      ]
    },
    {
      "cell_type": "code",
      "source": [
        "def search_files(query, file_texts, file_names, top_n=5):\n",
        "    query_embedding = model.encode([query])  # Convert query to embedding\n",
        "    file_embeddings = model.encode(file_texts)  # Convert files to embeddings\n",
        "    similarities = cosine_similarity(query_embedding, file_embeddings)[0]\n",
        "\n",
        "    ranked_files = sorted(\n",
        "        zip(file_names, similarities), key=lambda x: x[1], reverse=True\n",
        "    )\n",
        "\n",
        "    return [{\"file\": file, \"score\": round(score * 100, 2)} for file, score in ranked_files[:top_n]]"
      ],
      "metadata": {
        "id": "MTt4RKCJ5h-c"
      },
      "execution_count": 122,
      "outputs": []
    },
    {
      "cell_type": "code",
      "source": [
        "search_query = \"the appropriate use of capitals\"\n",
        "search_results = search_files(search_query, file_texts, file_names)"
      ],
      "metadata": {
        "id": "M_A9sAjk5oUM"
      },
      "execution_count": 123,
      "outputs": []
    },
    {
      "cell_type": "code",
      "source": [
        "print(\"\\n🔹 Search results:\")\n",
        "for result in search_results:\n",
        "    print(f\"{result['file']} | Relevance: {result['score']}%\")"
      ],
      "metadata": {
        "colab": {
          "base_uri": "https://localhost:8080/"
        },
        "id": "NyDDPwMa51c-",
        "outputId": "cb272610-5f7a-4ff9-9872-34375d9e6d08"
      },
      "execution_count": 124,
      "outputs": [
        {
          "output_type": "stream",
          "name": "stdout",
          "text": [
            "\n",
            "🔹 Search results:\n",
            "testing 1.txt | Relevance: 28.01%\n",
            "testing 1 - Copy.txt | Relevance: 28.01%\n",
            "bch(1).pdf | Relevance: 21.11%\n",
            "bch(5).pdf | Relevance: 7.62%\n",
            "textingt2.txt | Relevance: -0.24%\n"
          ]
        }
      ]
    },
    {
      "cell_type": "code",
      "source": [],
      "metadata": {
        "id": "RosOjudb54_x"
      },
      "execution_count": 124,
      "outputs": []
    }
  ]
}